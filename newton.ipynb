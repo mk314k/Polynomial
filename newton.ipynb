{
 "cells": [
  {
   "cell_type": "code",
   "execution_count": 263,
   "metadata": {},
   "outputs": [],
   "source": [
    "import numpy as np \n",
    "import matplotlib.pyplot as plt "
   ]
  },
  {
   "cell_type": "code",
   "execution_count": 260,
   "metadata": {},
   "outputs": [],
   "source": [
    "class Polynomial2(Function):\n",
    "    def __init__(self, coeff:list[float], reverse=True)->None:\n",
    "        self.coeff = [c for c in coeff]\n",
    "        self.degree = len(coeff) -1\n",
    "    def __getitem__(self, r):\n",
    "        if 0<=r<= self.degree:\n",
    "            return self.coeff[self.degree - r]\n",
    "        else:\n",
    "            return 0\n",
    "    # def __set__(self, r, r_c):\n",
    "    #     if 0<=r<= self.degree:\n",
    "    #         return self.coeff[self.degree - r] = r_c\n",
    "    #     else:\n",
    "    #         return 0\n",
    "    def __add__(self, p:Polynomial):\n",
    "        coeff = [0]*(max(self.degree, p.degree)+1)\n",
    "        for i in range(len(coeff), -1, -1):\n",
    "            pass\n",
    "\n",
    "    def __call__(self, x:float)->float:\n",
    "        ans = self.coeff[0]\n",
    "        for c in self.coeff[1:]:\n",
    "            ans = ans*x + c\n",
    "        return ans\n",
    "        \n",
    "    def derivative(self):\n",
    "        coeff = [(self.degree - r)*c for r, c in enumerate(self.coeff[:-1])]\n",
    "        return polynomial(coeff)\n",
    "\n",
    "    def revderivative(self):\n",
    "        coeff = [(r+1)*c for r, c in enumerate(self.coeff[:-1])]\n",
    "        return polynomial(coeff)\n",
    "\n",
    "    def __repr__(self):\n",
    "        n = self.degree\n",
    "        return ' + '.join([f'{c}x^{n-r}' for r, c in enumerate(self.coeff) if c!= 0])\n",
    "\n",
    "    def __str__(self):\n",
    "        rep = ''\n",
    "        for r, c in enumerate(self.coeff):\n",
    "            sign = '+' if c>0 else '-'\n",
    "            if c!=0:\n",
    "                c_abs = abs(c)\n",
    "                c_abs = '' if (c_abs == 1 and r<self.degree) else f'{c_abs}'\n",
    "                base = f'x^{self.degree - r}' if r<self.degree else ''\n",
    "                if r==0 and sign=='+':sign=''\n",
    "                rep += f' {sign} {c_abs}{base}'\n",
    "        return rep\n",
    "    def newton(self, x0, iteration=1):\n",
    "        x=[x0]\n",
    "        obj = self.derivative()\n",
    "        for i in range(iteration):\n",
    "            deriv = obj(x[i])\n",
    "            if deriv ==0: deriv = 1e-6\n",
    "            x.append(x[i] - self(x[i])/deriv)\n",
    "        return x\n",
    "\n",
    "    def revnewton(self, x0, iteration=1):\n",
    "        x=[x0]\n",
    "        obj = self.revderivative()\n",
    "        for i in range(iteration):\n",
    "            deriv = obj(x[i])\n",
    "            if deriv ==0: deriv = 1e-6\n",
    "            x.append(x[i] - self(x[i])/deriv)\n",
    "        return x"
   ]
  },
  {
   "cell_type": "code",
   "execution_count": 265,
   "metadata": {},
   "outputs": [],
   "source": [
    "def lderivative(f, x, eps=1e-6):\n",
    "    return (f(x)-f(x-eps))/eps\n",
    "def rderivative(f, x, eps=1e-6):\n",
    "    return (f(x+eps)-f(x))/eps\n",
    "def derivative(f, x, eps=1e-6):\n",
    "    return 0.5*(f(x+eps)-f(x-eps))/eps"
   ]
  },
  {
   "cell_type": "code",
   "execution_count": 264,
   "metadata": {},
   "outputs": [],
   "source": [
    "x = np.linspace(0,100,10000)"
   ]
  },
  {
   "cell_type": "code",
   "execution_count": 261,
   "metadata": {},
   "outputs": [],
   "source": [
    "f = Polynomial([1,0,0])#lambda x: x**2"
   ]
  },
  {
   "cell_type": "code",
   "execution_count": 269,
   "metadata": {},
   "outputs": [
    {
     "data": {
      "image/png": "[encoded data removed]",
      "text/plain": [
       "<Figure size 432x288 with 1 Axes>"
      ]
     },
     "metadata": {
      "needs_background": "light"
     },
     "output_type": "display_data"
    }
   ],
   "source": [
    "# plt.plot(x, 2*x - lderivative(f,x), label=\"ldev\")\n",
    "# plt.plot(x, -2*x + rderivative(f,x), label=\"rdev\")\n",
    "# plt.plot(x, 2*x - derivative(f,x, 1e-6), label=\"dev\")\n",
    "plt.plot(x, f.derivative()(x), label=\"poly-dev\")\n",
    "plt.legend()\n",
    "plt.show()"
   ]
  },
  {
   "cell_type": "code",
   "execution_count": 29,
   "metadata": {},
   "outputs": [
    {
     "data": {
      "text/plain": [
       "2.1879380774151962e-07"
      ]
     },
     "execution_count": 29,
     "metadata": {},
     "output_type": "execute_result"
    }
   ],
   "source": [
    "( 2*x - derivative(f,x, 1e-6)).mean()"
   ]
  },
  {
   "cell_type": "code",
   "execution_count": 4,
   "metadata": {},
   "outputs": [
    {
     "data": {
      "text/plain": [
       "(3.999998999582033, 4.0000010006480125, 4.000000000115023)"
      ]
     },
     "execution_count": 4,
     "metadata": {},
     "output_type": "execute_result"
    }
   ],
   "source": [
    "lderivative(f, 2), rderivative(f, 2), derivative(f, 2)"
   ]
  },
  {
   "cell_type": "code",
   "execution_count": 188,
   "metadata": {},
   "outputs": [],
   "source": [
    "class Function:\n",
    "    pass"
   ]
  },
  {
   "cell_type": "code",
   "execution_count": 308,
   "metadata": {},
   "outputs": [],
   "source": [
    "class RationalPoly(Function):\n",
    "    def __init__(self,oblique:Polynomial ,numerator:Polynomial, denominator:Polynomial):\n",
    "        self.num_poly = numerator\n",
    "        self.denom_poly = denominator\n",
    "        self.obl_poly = oblique\n",
    "    def __call__(self, x:float)->float:\n",
    "        denom = self.denom_poly(x)\n",
    "        if denom == 0: denom = 1e-6\n",
    "        return self.obl_poly(x) + self.num_poly(x)/denom\n",
    "    def __repr__(self):\n",
    "        return f'({self.obl_poly}) + [{self.num_poly}] / [{self.denom_poly}]'\n",
    "    def __add__(self, f):\n",
    "        if isinstance(f, (int, float, Polynomial)):\n",
    "            return RationalPoly(self.obl_poly + f, self.num_poly, self.denom_poly)\n",
    "    def derivative(self):\n",
    "        obl = self.obl_poly.derivative()\n",
    "        num = self.denom_poly * self.num_poly.derivative() - self.num_poly * self.denom_poly.derivative()\n",
    "        denom = self.denom_poly * self.denom_poly\n",
    "        return num/denom + obl\n"
   ]
  },
  {
   "cell_type": "code",
   "execution_count": 307,
   "metadata": {},
   "outputs": [
    {
     "data": {
      "text/plain": [
       "(0) + [x^4 + x^2] / [2x^1]"
      ]
     },
     "execution_count": 307,
     "metadata": {},
     "output_type": "execute_result"
    }
   ],
   "source": [
    "RationalPoly(Polynomial([0]),p,q)"
   ]
  },
  {
   "cell_type": "code",
   "execution_count": 303,
   "metadata": {},
   "outputs": [],
   "source": [
    "class Polynomial(Function):\n",
    "    def __init__(self, coeff:list[float], reverse=True)->None:\n",
    "        self.coeff = coeff[::-1] if reverse else coeff\n",
    "        self.degree = len(coeff) -1\n",
    "    def __getitem__(self, r):\n",
    "        if 0<=r<= self.degree:\n",
    "            return self.coeff[r]\n",
    "        else:\n",
    "            return 0\n",
    "    def __setitem__(self, r, r_c):\n",
    "        if 0<=r<= self.degree:\n",
    "            self.coeff[r] = r_c\n",
    "        else:\n",
    "            pass\n",
    "\n",
    "    def __add__(self, p:Polynomial):\n",
    "        if isinstance(p, (int, float)):\n",
    "            res = Polynomial(self.coeff[::-1])\n",
    "            res[0] += p\n",
    "            return res\n",
    "\n",
    "        coeff = [0]*(max(self.degree, p.degree)+1)\n",
    "        res = Polynomial(coeff, reverse=False)\n",
    "        for i in range(len(coeff)):\n",
    "            res[i] = self[i] + p[i]\n",
    "        return res\n",
    "\n",
    "    def __sub__(self, p:Polynomial):\n",
    "        if isinstance(p, (int, float)):\n",
    "            res = Polynomial(self.coeff[::-1])\n",
    "            res[0] -= p\n",
    "            return res\n",
    "            \n",
    "        coeff = [0]*(max(self.degree, p.degree)+1)\n",
    "        res = Polynomial(coeff, reverse=False)\n",
    "        for i in range(len(coeff)):\n",
    "            res[i] = self[i] - p[i]\n",
    "        return res\n",
    "\n",
    "    def __mul__(self, p:Polynomial):\n",
    "        if isinstance(p, (int, float)):\n",
    "            coeff = [p*c for c in self.coeff]\n",
    "            res = Polynomial(coeff, reverse=False)\n",
    "            return res\n",
    "            \n",
    "        coeff = [0]*(self.degree + p.degree + 1)\n",
    "        res = Polynomial(coeff, reverse=False)\n",
    "        for i in range(self.degree + 1):\n",
    "            for j in range(p.degree + 1):\n",
    "                res[i + j] += self[i] * p[j]\n",
    "        return res\n",
    "\n",
    "    def __div__(self, p:Polynomial):\n",
    "        if isinstance(p, (int, float)):\n",
    "            coeff = [c/p for c in self.coeff]\n",
    "            res = Polynomial(coeff, reverse=False)\n",
    "            return res\n",
    "        res = RationalPoly(Polynomial([0]*max(self.degree - p.degree + 1, 1)), self, p)\n",
    "        numd = self.degree\n",
    "        denomd = p.degree\n",
    "        if self.degree >= p.degree:\n",
    "            \n",
    "\n",
    "        coeff = [0]*(self.degree + p.degree + 1)\n",
    "        res = Polynomial(coeff, reverse=False)\n",
    "        for i in range(self.degree + 1):\n",
    "            for j in range(p.degree + 1):\n",
    "                res[i + j] += self[i] * p[j]\n",
    "        return res\n",
    "\n",
    "\n",
    "    def __call__(self, x:float)->float:\n",
    "        ans = 0\n",
    "        xp=1\n",
    "        for c in self.coeff:\n",
    "            ans = ans + c*xp\n",
    "            xp = xp * x\n",
    "        return ans\n",
    "        \n",
    "    def derivative(self):\n",
    "        coeff = [(r+1)*c for r, c in enumerate(self.coeff[1:])]\n",
    "        return Polynomial(coeff, reverse=False)\n",
    "\n",
    "    def __repr__(self):\n",
    "        return self.__str__()\n",
    "        # return ' + '.join([f'{c}x^{r}' for r, c in enumerate(self.coeff) if c!= 0])\n",
    "\n",
    "    def __str__(self):\n",
    "        if self.degree == 0: return f'{self.coeff[0]}'\n",
    "        rep = ''\n",
    "        for r, c in enumerate(self.coeff):\n",
    "            sign = '+' if c>0 else '-'\n",
    "            if c!=0:\n",
    "                c_abs = abs(c)\n",
    "                c_abs = '' if (c_abs == 1 and r>0) else f'{c_abs}'\n",
    "                base = f'x^{r}' if r>0 else ''\n",
    "                if r==self.degree and sign=='+':sign=''\n",
    "                rep = f' {sign} {c_abs}{base}' + rep\n",
    "        return rep.lstrip()\n",
    "    def newton(self, x0, iteration=1):\n",
    "        x=[x0]\n",
    "        obj = self.derivative()\n",
    "        for i in range(iteration):\n",
    "            deriv = obj(x[i])\n",
    "            if deriv ==0: deriv = 1e-6\n",
    "            x.append(x[i] - self(x[i])/deriv)\n",
    "        return x"
   ]
  },
  {
   "cell_type": "code",
   "execution_count": 295,
   "metadata": {},
   "outputs": [],
   "source": [
    "p = Polynomial([1,0,1,0,0])\n",
    "q = Polynomial([2,0])"
   ]
  },
  {
   "cell_type": "code",
   "execution_count": 296,
   "metadata": {},
   "outputs": [
    {
     "data": {
      "text/plain": [
       "(2x^5 + 2x^3, x^4 + x^2, 2x^1)"
      ]
     },
     "execution_count": 296,
     "metadata": {},
     "output_type": "execute_result"
    }
   ],
   "source": [
    "p * q, p, q"
   ]
  },
  {
   "cell_type": "code",
   "execution_count": 183,
   "metadata": {},
   "outputs": [
    {
     "data": {
      "text/plain": [
       "-0.16195230542946382"
      ]
     },
     "execution_count": 183,
     "metadata": {},
     "output_type": "execute_result"
    }
   ],
   "source": [
    "pn100 = p.revnewton(-5,100)\n",
    "pn100[-1]"
   ]
  },
  {
   "cell_type": "code",
   "execution_count": 184,
   "metadata": {},
   "outputs": [],
   "source": [
    "pn100 = np.array(pn100)"
   ]
  },
  {
   "cell_type": "code",
   "execution_count": 185,
   "metadata": {},
   "outputs": [],
   "source": [
    "pn100 = pn100[1:] - pn100[:-1]"
   ]
  },
  {
   "cell_type": "code",
   "execution_count": 186,
   "metadata": {},
   "outputs": [],
   "source": [
    "pn100c = (pn100[1:])/(pn100[:-1])"
   ]
  },
  {
   "cell_type": "code",
   "execution_count": 187,
   "metadata": {},
   "outputs": [
    {
     "data": {
      "text/plain": [
       "array([  0.22383621,  -0.68192411, -24.80913914,  -0.99254   ,\n",
       "         0.17108981,  -0.80208916,   0.34539848,  -1.25922079,\n",
       "        -0.6798433 , -31.19449209,  -0.99525854,   0.16946133,\n",
       "        -0.86040678,   0.27682584,  -0.96012553,  -1.10845874,\n",
       "        -0.81128992,  -2.06725945,  -0.6034561 ,   0.95892724,\n",
       "        -0.87388942,  -1.49333224,  -0.60072584,   2.60179102,\n",
       "        -0.64840378,   0.68526505,  -1.23484106,  -0.69492311,\n",
       "       -11.03834834,  -0.96400042,   0.18937007,  -0.587768  ,\n",
       "         1.22628878,  -0.68561925, -18.24310844,  -0.98634614,\n",
       "         0.17487199,  -0.70778339,   0.508809  ,  -1.45685867,\n",
       "        -0.60742805,   3.02025929,  -0.69471252,   0.54009735,\n",
       "        -1.43348142,  -0.6125626 ,   3.38578002,  -0.73203921,\n",
       "         0.45784607,  -1.46289771,  -0.6062124 ,   2.94017203,\n",
       "        -0.68604011,   0.56269504,  -1.40996841,  -0.618465  ,\n",
       "         3.87686914,  -0.7752569 ,   0.38366656,  -1.3684255 ,\n",
       "        -0.63093631,   5.3285843 ,  -0.8614664 ,   0.27573214,\n",
       "        -0.95448704,  -1.12636776,  -0.78982233,  -2.40080932,\n",
       "        -0.63884788,   0.72589678,  -1.17209944,  -0.74335523,\n",
       "        -3.78884123,  -0.77976661,   0.37687583,  -1.35224188,\n",
       "        -0.63658572,   6.30394635,  -0.8958467 ,   0.24271025,\n",
       "        -0.7789159 ,  -2.62026933,  -0.66421365,   0.62789009,\n",
       "        -1.32264157,  -0.64821953,   9.73585043,  -0.95295033,\n",
       "         0.19705129,  -0.58705834,   1.79683877,  -0.58453784,\n",
       "         1.4698124 ,  -0.61016728,   3.2092915 ,  -0.71452356,\n",
       "         0.49380373,  -1.46331485,  -0.60613004])"
      ]
     },
     "execution_count": 187,
     "metadata": {},
     "output_type": "execute_result"
    }
   ],
   "source": [
    "pn100c"
   ]
  },
  {
   "cell_type": "code",
   "execution_count": 333,
   "metadata": {},
   "outputs": [],
   "source": [
    "import random\n"
   ]
  },
  {
   "cell_type": "code",
   "execution_count": 385,
   "metadata": {},
   "outputs": [],
   "source": [
    "X = [random.random() for _ in range(10000)]\n",
    "X = np.array(X)\n",
    "F = lambda x: (X < x).mean()\n",
    "x = np.linspace(0,1,200)\n",
    "y = np.array([F(a) for a in x])"
   ]
  },
  {
   "cell_type": "code",
   "execution_count": 386,
   "metadata": {},
   "outputs": [
    {
     "data": {
      "text/plain": [
       "[<matplotlib.lines.Line2D at 0x1226795d0>]"
      ]
     },
     "execution_count": 386,
     "metadata": {},
     "output_type": "execute_result"
    },
    {
     "data": {
      "image/png": "[encoded data removed]",
      "text/plain": [
       "<Figure size 432x288 with 1 Axes>"
      ]
     },
     "metadata": {
      "needs_background": "light"
     },
     "output_type": "display_data"
    }
   ],
   "source": [
    "plt.plot(x,u)\n",
    "# plt.plot(x,x)"
   ]
  },
  {
   "cell_type": "code",
   "execution_count": 387,
   "metadata": {},
   "outputs": [],
   "source": [
    "u = (n * u + y - x)/(n+1)\n",
    "n = n + 1"
   ]
  },
  {
   "cell_type": "code",
   "execution_count": null,
   "metadata": {},
   "outputs": [],
   "source": []
  },
  {
   "cell_type": "code",
   "execution_count": null,
   "metadata": {},
   "outputs": [],
   "source": []
  },
  {
   "cell_type": "code",
   "execution_count": null,
   "metadata": {},
   "outputs": [],
   "source": []
  }
 ],
 "metadata": {
  "kernelspec": {
   "display_name": "Python 3",
   "language": "python",
   "name": "python3"
  },
  "language_info": {
   "codemirror_mode": {
    "name": "ipython",
    "version": 3
   },
   "file_extension": ".py",
   "mimetype": "text/x-python",
   "name": "python",
   "nbconvert_exporter": "python",
   "pygments_lexer": "ipython3",
   "version": "3.10.5"
  }
 },
 "nbformat": 4,
 "nbformat_minor": 2
}
