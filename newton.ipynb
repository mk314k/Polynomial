{
 "cells": [
  {
   "cell_type": "code",
   "execution_count": 263,
   "metadata": {},
   "outputs": [],
   "source": [
    "import numpy as np \n",
    "import matplotlib.pyplot as plt "
   ]
  },
  {
   "cell_type": "code",
   "execution_count": 260,
   "metadata": {},
   "outputs": [],
   "source": [
    "class Polynomial2(Function):\n",
    "    def __init__(self, coeff:list[float], reverse=True)->None:\n",
    "        self.coeff = [c for c in coeff]\n",
    "        self.degree = len(coeff) -1\n",
    "    def __getitem__(self, r):\n",
    "        if 0<=r<= self.degree:\n",
    "            return self.coeff[self.degree - r]\n",
    "        else:\n",
    "            return 0\n",
    "    # def __set__(self, r, r_c):\n",
    "    #     if 0<=r<= self.degree:\n",
    "    #         return self.coeff[self.degree - r] = r_c\n",
    "    #     else:\n",
    "    #         return 0\n",
    "    def __add__(self, p:Polynomial):\n",
    "        coeff = [0]*(max(self.degree, p.degree)+1)\n",
    "        for i in range(len(coeff), -1, -1):\n",
    "            pass\n",
    "\n",
    "    def __call__(self, x:float)->float:\n",
    "        ans = self.coeff[0]\n",
    "        for c in self.coeff[1:]:\n",
    "            ans = ans*x + c\n",
    "        return ans\n",
    "        \n",
    "    def derivative(self):\n",
    "        coeff = [(self.degree - r)*c for r, c in enumerate(self.coeff[:-1])]\n",
    "        return polynomial(coeff)\n",
    "\n",
    "    def revderivative(self):\n",
    "        coeff = [(r+1)*c for r, c in enumerate(self.coeff[:-1])]\n",
    "        return polynomial(coeff)\n",
    "\n",
    "    def __repr__(self):\n",
    "        n = self.degree\n",
    "        return ' + '.join([f'{c}x^{n-r}' for r, c in enumerate(self.coeff) if c!= 0])\n",
    "\n",
    "    def __str__(self):\n",
    "        rep = ''\n",
    "        for r, c in enumerate(self.coeff):\n",
    "            sign = '+' if c>0 else '-'\n",
    "            if c!=0:\n",
    "                c_abs = abs(c)\n",
    "                c_abs = '' if (c_abs == 1 and r<self.degree) else f'{c_abs}'\n",
    "                base = f'x^{self.degree - r}' if r<self.degree else ''\n",
    "                if r==0 and sign=='+':sign=''\n",
    "                rep += f' {sign} {c_abs}{base}'\n",
    "        return rep\n",
    "    def newton(self, x0, iteration=1):\n",
    "        x=[x0]\n",
    "        obj = self.derivative()\n",
    "        for i in range(iteration):\n",
    "            deriv = obj(x[i])\n",
    "            if deriv ==0: deriv = 1e-6\n",
    "            x.append(x[i] - self(x[i])/deriv)\n",
    "        return x\n",
    "\n",
    "    def revnewton(self, x0, iteration=1):\n",
    "        x=[x0]\n",
    "        obj = self.revderivative()\n",
    "        for i in range(iteration):\n",
    "            deriv = obj(x[i])\n",
    "            if deriv ==0: deriv = 1e-6\n",
    "            x.append(x[i] - self(x[i])/deriv)\n",
    "        return x"
   ]
  },
  {
   "cell_type": "code",
   "execution_count": 265,
   "metadata": {},
   "outputs": [],
   "source": [
    "def lderivative(f, x, eps=1e-6):\n",
    "    return (f(x)-f(x-eps))/eps\n",
    "def rderivative(f, x, eps=1e-6):\n",
    "    return (f(x+eps)-f(x))/eps\n",
    "def derivative(f, x, eps=1e-6):\n",
    "    return 0.5*(f(x+eps)-f(x-eps))/eps"
   ]
  },
  {
   "cell_type": "code",
   "execution_count": 264,
   "metadata": {},
   "outputs": [],
   "source": [
    "x = np.linspace(0,100,10000)"
   ]
  },
  {
   "cell_type": "code",
   "execution_count": 261,
   "metadata": {},
   "outputs": [],
   "source": [
    "f = Polynomial([1,0,0])#lambda x: x**2"
   ]
  },
  {
   "cell_type": "code",
   "execution_count": 269,
   "metadata": {},
   "outputs": [
    {
     "data": {
      "image/png": "[encoded data removed]",
      "text/plain": [
       "<Figure size 432x288 with 1 Axes>"
      ]
     },
     "metadata": {
      "needs_background": "light"
     },
     "output_type": "display_data"
    }
   ],
   "source": [
    "# plt.plot(x, 2*x - lderivative(f,x), label=\"ldev\")\n",
    "# plt.plot(x, -2*x + rderivative(f,x), label=\"rdev\")\n",
    "# plt.plot(x, 2*x - derivative(f,x, 1e-6), label=\"dev\")\n",
    "plt.plot(x, f.derivative()(x), label=\"poly-dev\")\n",
    "plt.legend()\n",
    "plt.show()"
   ]
  },
  {
   "cell_type": "code",
   "execution_count": 29,
   "metadata": {},
   "outputs": [
    {
     "data": {
      "text/plain": [
       "2.1879380774151962e-07"
      ]
     },
     "execution_count": 29,
     "metadata": {},
     "output_type": "execute_result"
    }
   ],
   "source": [
    "( 2*x - derivative(f,x, 1e-6)).mean()"
   ]
  },
  {
   "cell_type": "code",
   "execution_count": 4,
   "metadata": {},
   "outputs": [
    {
     "data": {
      "text/plain": [
       "(3.999998999582033, 4.0000010006480125, 4.000000000115023)"
      ]
     },
     "execution_count": 4,
     "metadata": {},
     "output_type": "execute_result"
    }
   ],
   "source": [
    "lderivative(f, 2), rderivative(f, 2), derivative(f, 2)"
   ]
  },
  {
   "cell_type": "code",
   "execution_count": 3,
   "metadata": {},
   "outputs": [],
   "source": [
    "class Function:\n",
    "    pass"
   ]
  },
  {
   "cell_type": "code",
   "execution_count": 4,
   "metadata": {},
   "outputs": [
    {
     "ename": "NameError",
     "evalue": "name 'Polynomial' is not defined",
     "output_type": "error",
     "traceback": [
      "\u001b[0;31m---------------------------------------------------------------------------\u001b[0m",
      "\u001b[0;31mNameError\u001b[0m                                 Traceback (most recent call last)",
      "\u001b[1;32m/Users/kartikeshmishra/Kartikesh/68370/Polynomial/newton.ipynb Cell 10\u001b[0m line \u001b[0;36m<cell line: 1>\u001b[0;34m()\u001b[0m\n\u001b[0;32m----> <a href='vscode-notebook-cell:/Users/kartikeshmishra/Kartikesh/68370/Polynomial/newton.ipynb#X12sZmlsZQ%3D%3D?line=0'>1</a>\u001b[0m \u001b[39mclass\u001b[39;00m \u001b[39mRationalPoly\u001b[39;00m(Function):\n\u001b[1;32m      <a href='vscode-notebook-cell:/Users/kartikeshmishra/Kartikesh/68370/Polynomial/newton.ipynb#X12sZmlsZQ%3D%3D?line=1'>2</a>\u001b[0m     \u001b[39mdef\u001b[39;00m \u001b[39m__init__\u001b[39m(\u001b[39mself\u001b[39m,oblique:Polynomial ,numerator:Polynomial, denominator:Polynomial):\n\u001b[1;32m      <a href='vscode-notebook-cell:/Users/kartikeshmishra/Kartikesh/68370/Polynomial/newton.ipynb#X12sZmlsZQ%3D%3D?line=2'>3</a>\u001b[0m         \u001b[39mself\u001b[39m\u001b[39m.\u001b[39mnum_poly \u001b[39m=\u001b[39m numerator\n",
      "\u001b[1;32m/Users/kartikeshmishra/Kartikesh/68370/Polynomial/newton.ipynb Cell 10\u001b[0m line \u001b[0;36mRationalPoly\u001b[0;34m()\u001b[0m\n\u001b[1;32m      <a href='vscode-notebook-cell:/Users/kartikeshmishra/Kartikesh/68370/Polynomial/newton.ipynb#X12sZmlsZQ%3D%3D?line=0'>1</a>\u001b[0m \u001b[39mclass\u001b[39;00m \u001b[39mRationalPoly\u001b[39;00m(Function):\n\u001b[0;32m----> <a href='vscode-notebook-cell:/Users/kartikeshmishra/Kartikesh/68370/Polynomial/newton.ipynb#X12sZmlsZQ%3D%3D?line=1'>2</a>\u001b[0m     \u001b[39mdef\u001b[39;00m \u001b[39m__init__\u001b[39m(\u001b[39mself\u001b[39m,oblique:Polynomial ,numerator:Polynomial, denominator:Polynomial):\n\u001b[1;32m      <a href='vscode-notebook-cell:/Users/kartikeshmishra/Kartikesh/68370/Polynomial/newton.ipynb#X12sZmlsZQ%3D%3D?line=2'>3</a>\u001b[0m         \u001b[39mself\u001b[39m\u001b[39m.\u001b[39mnum_poly \u001b[39m=\u001b[39m numerator\n\u001b[1;32m      <a href='vscode-notebook-cell:/Users/kartikeshmishra/Kartikesh/68370/Polynomial/newton.ipynb#X12sZmlsZQ%3D%3D?line=3'>4</a>\u001b[0m         \u001b[39mself\u001b[39m\u001b[39m.\u001b[39mdenom_poly \u001b[39m=\u001b[39m denominator\n",
      "\u001b[0;31mNameError\u001b[0m: name 'Polynomial' is not defined"
     ]
    }
   ],
   "source": [
    "class RationalPoly(Function):\n",
    "    def __init__(self,oblique:Polynomial ,numerator:Polynomial, denominator:Polynomial):\n",
    "        self.num_poly = numerator\n",
    "        self.denom_poly = denominator\n",
    "        self.obl_poly = oblique\n",
    "    def __call__(self, x:float)->float:\n",
    "        denom = self.denom_poly(x)\n",
    "        if denom == 0: denom = 1e-6\n",
    "        return self.obl_poly(x) + self.num_poly(x)/denom\n",
    "    def __repr__(self):\n",
    "        return f'({self.obl_poly}) + [{self.num_poly}] / [{self.denom_poly}]'\n",
    "    def __add__(self, f):\n",
    "        if isinstance(f, (int, float, Polynomial)):\n",
    "            return RationalPoly(self.obl_poly + f, self.num_poly, self.denom_poly)\n",
    "    def derivative(self):\n",
    "        obl = self.obl_poly.derivative()\n",
    "        num = self.denom_poly * self.num_poly.derivative() - self.num_poly * self.denom_poly.derivative()\n",
    "        denom = self.denom_poly * self.denom_poly\n",
    "        return num/denom + obl\n"
   ]
  },
  {
   "cell_type": "code",
   "execution_count": 307,
   "metadata": {},
   "outputs": [
    {
     "data": {
      "text/plain": [
       "(0) + [x^4 + x^2] / [2x^1]"
      ]
     },
     "execution_count": 307,
     "metadata": {},
     "output_type": "execute_result"
    }
   ],
   "source": [
    "RationalPoly(Polynomial([0]),p,q)"
   ]
  },
  {
   "cell_type": "code",
   "execution_count": 6,
   "metadata": {},
   "outputs": [],
   "source": [
    "class Polynomial(Function):\n",
    "    def __init__(self, coeff:list[float], reverse=True)->None:\n",
    "        self.coeff = coeff[::-1] if reverse else coeff\n",
    "        self.degree = len(coeff) -1\n",
    "    def __getitem__(self, r):\n",
    "        if 0<=r<= self.degree:\n",
    "            return self.coeff[r]\n",
    "        else:\n",
    "            return 0\n",
    "    def __setitem__(self, r, r_c):\n",
    "        if 0<=r<= self.degree:\n",
    "            self.coeff[r] = r_c\n",
    "        else:\n",
    "            pass\n",
    "\n",
    "    def __add__(self, p):\n",
    "        if isinstance(p, (int, float)):\n",
    "            res = Polynomial(self.coeff[::-1])\n",
    "            res[0] += p\n",
    "            return res\n",
    "\n",
    "        coeff = [0]*(max(self.degree, p.degree)+1)\n",
    "        res = Polynomial(coeff, reverse=False)\n",
    "        for i in range(len(coeff)):\n",
    "            res[i] = self[i] + p[i]\n",
    "        return res\n",
    "\n",
    "    def __sub__(self, p):\n",
    "        if isinstance(p, (int, float)):\n",
    "            res = Polynomial(self.coeff[::-1])\n",
    "            res[0] -= p\n",
    "            return res\n",
    "            \n",
    "        coeff = [0]*(max(self.degree, p.degree)+1)\n",
    "        res = Polynomial(coeff, reverse=False)\n",
    "        for i in range(len(coeff)):\n",
    "            res[i] = self[i] - p[i]\n",
    "        return res\n",
    "\n",
    "    def __mul__(self, p):\n",
    "        if isinstance(p, (int, float)):\n",
    "            coeff = [p*c for c in self.coeff]\n",
    "            res = Polynomial(coeff, reverse=False)\n",
    "            return res\n",
    "            \n",
    "        coeff = [0]*(self.degree + p.degree + 1)\n",
    "        res = Polynomial(coeff, reverse=False)\n",
    "        for i in range(self.degree + 1):\n",
    "            for j in range(p.degree + 1):\n",
    "                res[i + j] += self[i] * p[j]\n",
    "        return res\n",
    "\n",
    "    # def __div__(self, p):\n",
    "    #     if isinstance(p, (int, float)):\n",
    "    #         coeff = [c/p for c in self.coeff]\n",
    "    #         res = Polynomial(coeff, reverse=False)\n",
    "    #         return res\n",
    "    #     res = RationalPoly(Polynomial([0]*max(self.degree - p.degree + 1, 1)), self, p)\n",
    "    #     numd = self.degree\n",
    "    #     denomd = p.degree\n",
    "    #     # if self.degree >= p.degree:\n",
    "            \n",
    "\n",
    "    #     coeff = [0]*(self.degree + p.degree + 1)\n",
    "    #     res = Polynomial(coeff, reverse=False)\n",
    "    #     for i in range(self.degree + 1):\n",
    "    #         for j in range(p.degree + 1):\n",
    "    #             res[i + j] += self[i] * p[j]\n",
    "    #     return res\n",
    "\n",
    "\n",
    "    def __call__(self, x:float)->float:\n",
    "        ans = 0\n",
    "        xp=1\n",
    "        for c in self.coeff:\n",
    "            ans = ans + c*xp\n",
    "            xp = xp * x\n",
    "        return ans\n",
    "        \n",
    "    def derivative(self):\n",
    "        coeff = [(r+1)*c for r, c in enumerate(self.coeff[1:])]\n",
    "        return Polynomial(coeff, reverse=False)\n",
    "\n",
    "    def __repr__(self):\n",
    "        return self.__str__()\n",
    "        # return ' + '.join([f'{c}x^{r}' for r, c in enumerate(self.coeff) if c!= 0])\n",
    "\n",
    "    def __str__(self):\n",
    "        if self.degree == 0: return f'{self.coeff[0]}'\n",
    "        rep = ''\n",
    "        for r, c in enumerate(self.coeff):\n",
    "            sign = '+' if c>0 else '-'\n",
    "            if c!=0:\n",
    "                c_abs = abs(c)\n",
    "                c_abs = '' if (c_abs == 1 and r>0) else f'{c_abs}'\n",
    "                base = f'x^{r}' if r>0 else ''\n",
    "                if r==self.degree and sign=='+':sign=''\n",
    "                rep = f' {sign} {c_abs}{base}' + rep\n",
    "        return rep.lstrip()\n",
    "    def newton(self, x0, iteration=1):\n",
    "        x=[x0]\n",
    "        obj = self.derivative()\n",
    "        for i in range(iteration):\n",
    "            deriv = obj(x[i])\n",
    "            if deriv ==0: deriv = 1e-6\n",
    "            x.append(x[i] - self(x[i])/deriv)\n",
    "        return x"
   ]
  },
  {
   "cell_type": "code",
   "execution_count": 10,
   "metadata": {},
   "outputs": [],
   "source": [
    "p = Polynomial([1,-2])\n",
    "q = Polynomial([1,1])"
   ]
  },
  {
   "cell_type": "code",
   "execution_count": 13,
   "metadata": {},
   "outputs": [],
   "source": [
    "p=p*p*q -1"
   ]
  },
  {
   "cell_type": "code",
   "execution_count": 14,
   "metadata": {},
   "outputs": [
    {
     "data": {
      "text/plain": [
       "x^3 - 3x^2 + 3"
      ]
     },
     "execution_count": 14,
     "metadata": {},
     "output_type": "execute_result"
    }
   ],
   "source": [
    "p"
   ]
  },
  {
   "cell_type": "code",
   "execution_count": 37,
   "metadata": {},
   "outputs": [
    {
     "data": {
      "text/plain": [
       "[1,\n",
       " 1.3333333333333333,\n",
       " 1.347222222222222,\n",
       " 1.347296353163868,\n",
       " 1.3472963553338606,\n",
       " 1.3472963553338608,\n",
       " 1.3472963553338608,\n",
       " 1.3472963553338608,\n",
       " 1.3472963553338608,\n",
       " 1.3472963553338608,\n",
       " 1.3472963553338608]"
      ]
     },
     "execution_count": 37,
     "metadata": {},
     "output_type": "execute_result"
    }
   ],
   "source": [
    "pn100 = p.newton(1,10)\n",
    "pn100"
   ]
  },
  {
   "cell_type": "code",
   "execution_count": 38,
   "metadata": {},
   "outputs": [
    {
     "data": {
      "text/plain": [
       "array([3.33333333e-01, 1.38888889e-02, 7.41309416e-05, 2.16999263e-09,\n",
       "       2.22044605e-16, 0.00000000e+00, 0.00000000e+00, 0.00000000e+00,\n",
       "       0.00000000e+00, 0.00000000e+00])"
      ]
     },
     "execution_count": 38,
     "metadata": {},
     "output_type": "execute_result"
    }
   ],
   "source": [
    "pn100 = np.array(pn100)\n",
    "pn100 = pn100[1:] - pn100[:-1]\n",
    "pn100"
   ]
  },
  {
   "cell_type": "code",
   "execution_count": 20,
   "metadata": {},
   "outputs": [
    {
     "name": "stderr",
     "output_type": "stream",
     "text": [
      "/var/folders/j1/d97jc1150z3fx4wh2fp7v7m00000gn/T/ipykernel_60712/1763154661.py:1: RuntimeWarning: invalid value encountered in divide\n",
      "  pn100c = (pn100[1:])/(pn100[:-1])\n"
     ]
    }
   ],
   "source": [
    "pn100c = (pn100[1:])/(pn100[:-1])"
   ]
  },
  {
   "cell_type": "code",
   "execution_count": 21,
   "metadata": {},
   "outputs": [
    {
     "data": {
      "text/plain": [
       "array([6.30007631e-01, 5.75985239e-01, 4.49498148e-01, 2.34142430e-01,\n",
       "       5.43308288e-02, 2.89347665e-03, 8.36078722e-06, 0.00000000e+00,\n",
       "                  nan,            nan,            nan,            nan,\n",
       "                  nan,            nan,            nan,            nan,\n",
       "                  nan,            nan,            nan,            nan,\n",
       "                  nan,            nan,            nan,            nan,\n",
       "                  nan,            nan,            nan,            nan,\n",
       "                  nan,            nan,            nan,            nan,\n",
       "                  nan,            nan,            nan,            nan,\n",
       "                  nan,            nan,            nan,            nan,\n",
       "                  nan,            nan,            nan,            nan,\n",
       "                  nan,            nan,            nan,            nan,\n",
       "                  nan,            nan,            nan,            nan,\n",
       "                  nan,            nan,            nan,            nan,\n",
       "                  nan,            nan,            nan,            nan,\n",
       "                  nan,            nan,            nan,            nan,\n",
       "                  nan,            nan,            nan,            nan,\n",
       "                  nan,            nan,            nan,            nan,\n",
       "                  nan,            nan,            nan,            nan,\n",
       "                  nan,            nan,            nan,            nan,\n",
       "                  nan,            nan,            nan,            nan,\n",
       "                  nan,            nan,            nan,            nan,\n",
       "                  nan,            nan,            nan,            nan,\n",
       "                  nan,            nan,            nan,            nan,\n",
       "                  nan,            nan,            nan])"
      ]
     },
     "execution_count": 21,
     "metadata": {},
     "output_type": "execute_result"
    }
   ],
   "source": [
    "pn100c"
   ]
  },
  {
   "cell_type": "code",
   "execution_count": 333,
   "metadata": {},
   "outputs": [],
   "source": [
    "import random\n"
   ]
  },
  {
   "cell_type": "code",
   "execution_count": 385,
   "metadata": {},
   "outputs": [],
   "source": [
    "X = [random.random() for _ in range(10000)]\n",
    "X = np.array(X)\n",
    "F = lambda x: (X < x).mean()\n",
    "x = np.linspace(0,1,200)\n",
    "y = np.array([F(a) for a in x])"
   ]
  },
  {
   "cell_type": "code",
   "execution_count": 386,
   "metadata": {},
   "outputs": [
    {
     "data": {
      "text/plain": [
       "[<matplotlib.lines.Line2D at 0x1226795d0>]"
      ]
     },
     "execution_count": 386,
     "metadata": {},
     "output_type": "execute_result"
    },
    {
     "data": {
      "image/png": "[encoded data removed]",
      "text/plain": [
       "<Figure size 432x288 with 1 Axes>"
      ]
     },
     "metadata": {
      "needs_background": "light"
     },
     "output_type": "display_data"
    }
   ],
   "source": [
    "plt.plot(x,u)\n",
    "# plt.plot(x,x)"
   ]
  },
  {
   "cell_type": "code",
   "execution_count": 387,
   "metadata": {},
   "outputs": [],
   "source": [
    "u = (n * u + y - x)/(n+1)\n",
    "n = n + 1"
   ]
  },
  {
   "cell_type": "code",
   "execution_count": null,
   "metadata": {},
   "outputs": [],
   "source": []
  },
  {
   "cell_type": "code",
   "execution_count": 40,
   "metadata": {},
   "outputs": [],
   "source": [
    "import numpy as np\n",
    "import matplotlib.pyplot as plt\n",
    "from scipy.stats import norm"
   ]
  },
  {
   "cell_type": "code",
   "execution_count": 41,
   "metadata": {},
   "outputs": [],
   "source": [
    "x = np.linspace(-10, 10, 1000)\n",
    "fp = 2*(1- norm.cdf(x))**2\n",
    "fn = 2*(norm.cdf(x))**2"
   ]
  },
  {
   "cell_type": "code",
   "execution_count": 42,
   "metadata": {},
   "outputs": [
    {
     "data": {
      "image/png": "[encoded data removed]",
      "text/plain": [
       "<Figure size 432x288 with 1 Axes>"
      ]
     },
     "metadata": {
      "needs_background": "light"
     },
     "output_type": "display_data"
    }
   ],
   "source": [
    "plt.plot(fp, fn)\n",
    "plt.show()"
   ]
  },
  {
   "cell_type": "code",
   "execution_count": 195,
   "metadata": {},
   "outputs": [],
   "source": [
    "n1 = np.random.randn(100000)\n",
    "n2 = np.random.randn(100000)\n",
    "n3 = n1 + n2"
   ]
  },
  {
   "cell_type": "code",
   "execution_count": 137,
   "metadata": {},
   "outputs": [],
   "source": [
    "def cdf(dist, x):\n",
    "    return (dist<=x).mean()"
   ]
  },
  {
   "cell_type": "code",
   "execution_count": 198,
   "metadata": {},
   "outputs": [],
   "source": [
    "c=0.8"
   ]
  },
  {
   "cell_type": "code",
   "execution_count": 196,
   "metadata": {},
   "outputs": [],
   "source": [
    "n4 = n1[n3<0] # N1 given N3 < 0\n",
    "n5 = n1[n3>0] # N1 given N3 > 0"
   ]
  },
  {
   "cell_type": "code",
   "execution_count": 144,
   "metadata": {},
   "outputs": [
    {
     "data": {
      "text/plain": [
       "0.21185539858339664"
      ]
     },
     "execution_count": 144,
     "metadata": {},
     "output_type": "execute_result"
    }
   ],
   "source": [
    "1 - norm.cdf(c)"
   ]
  },
  {
   "cell_type": "code",
   "execution_count": 146,
   "metadata": {},
   "outputs": [
    {
     "data": {
      "text/plain": [
       "0.04486514522821572"
      ]
     },
     "execution_count": 146,
     "metadata": {},
     "output_type": "execute_result"
    }
   ],
   "source": [
    "1 - cdf(n4, c) # P(N1>c | N3 <0)"
   ]
  },
  {
   "cell_type": "code",
   "execution_count": 199,
   "metadata": {},
   "outputs": [],
   "source": [
    "n6 = n3[n1>c] # N3 given N1>c"
   ]
  },
  {
   "cell_type": "code",
   "execution_count": 200,
   "metadata": {},
   "outputs": [
    {
     "data": {
      "text/plain": [
       "0.10333651096282173"
      ]
     },
     "execution_count": 200,
     "metadata": {},
     "output_type": "execute_result"
    }
   ],
   "source": [
    "cdf(n6, 0)"
   ]
  },
  {
   "cell_type": "code",
   "execution_count": 202,
   "metadata": {},
   "outputs": [],
   "source": [
    "x = np.linspace(-3, 3, 1000)"
   ]
  },
  {
   "cell_type": "code",
   "execution_count": 241,
   "metadata": {},
   "outputs": [],
   "source": [
    "n6c = np.array([cdf(n3[n1>c],0) for c in x])\n",
    "n6p = (n6c[1:]-n6c[:-1])/(x[1]-x[0])"
   ]
  },
  {
   "cell_type": "code",
   "execution_count": 203,
   "metadata": {},
   "outputs": [],
   "source": [
    "fp = [1 - cdf(n4, c) for c in x]\n",
    "fn = [cdf(n5, c) for c in x]"
   ]
  },
  {
   "cell_type": "code",
   "execution_count": 219,
   "metadata": {},
   "outputs": [],
   "source": [
    "n4c = np.array([cdf(n4,c) for c in x])\n",
    "n4p = (n4c[1:]-n4c[:-1])/(x[1]-x[0])"
   ]
  },
  {
   "cell_type": "code",
   "execution_count": 230,
   "metadata": {},
   "outputs": [
    {
     "data": {
      "text/plain": [
       "0.7881446014166034"
      ]
     },
     "execution_count": 230,
     "metadata": {},
     "output_type": "execute_result"
    }
   ],
   "source": [
    "norm.cdf(c)"
   ]
  },
  {
   "cell_type": "code",
   "execution_count": 240,
   "metadata": {},
   "outputs": [
    {
     "data": {
      "text/plain": [
       "0.5000476644423261"
      ]
     },
     "execution_count": 240,
     "metadata": {},
     "output_type": "execute_result"
    }
   ],
   "source": [
    "cdf(n6, 1.359)"
   ]
  },
  {
   "cell_type": "code",
   "execution_count": 243,
   "metadata": {},
   "outputs": [
    {
     "data": {
      "text/plain": [
       "[<matplotlib.lines.Line2D at 0x12d627a90>]"
      ]
     },
     "execution_count": 243,
     "metadata": {},
     "output_type": "execute_result"
    },
    {
     "data": {
      "image/png": "[encoded data removed]",
      "text/plain": [
       "<Figure size 432x288 with 1 Axes>"
      ]
     },
     "metadata": {
      "needs_background": "light"
     },
     "output_type": "display_data"
    }
   ],
   "source": [
    "plt.plot(x[1:], n6p)"
   ]
  },
  {
   "cell_type": "code",
   "execution_count": 215,
   "metadata": {},
   "outputs": [
    {
     "data": {
      "image/png": "[encoded data removed]",
      "text/plain": [
       "<Figure size 432x288 with 1 Axes>"
      ]
     },
     "metadata": {
      "needs_background": "light"
     },
     "output_type": "display_data"
    }
   ],
   "source": [
    "plt.plot(fp, fn)\n",
    "plt.xlabel(\"False Negative\")\n",
    "plt.ylabel(\"False Positive\")\n",
    "plt.title(\"FP-FN Graph\")\n",
    "plt.show()"
   ]
  },
  {
   "cell_type": "code",
   "execution_count": 254,
   "metadata": {},
   "outputs": [],
   "source": [
    "fp1 = [(1 - norm.cdf(c))**2 for c in x]\n",
    "fn1 = [norm.cdf(c) for c in x]"
   ]
  },
  {
   "cell_type": "code",
   "execution_count": 255,
   "metadata": {},
   "outputs": [
    {
     "data": {
      "text/plain": [
       "-0.0009341539766762321"
      ]
     },
     "execution_count": 255,
     "metadata": {},
     "output_type": "execute_result"
    }
   ],
   "source": [
    "(np.array(fp) - np.array(fp1)).mean()"
   ]
  },
  {
   "cell_type": "code",
   "execution_count": 261,
   "metadata": {},
   "outputs": [
    {
     "data": {
      "text/plain": [
       "[<matplotlib.lines.Line2D at 0x12d866680>]"
      ]
     },
     "execution_count": 261,
     "metadata": {},
     "output_type": "execute_result"
    },
    {
     "data": {
      "image/png": "[encoded data removed]",
      "text/plain": [
       "<Figure size 432x288 with 1 Axes>"
      ]
     },
     "metadata": {
      "needs_background": "light"
     },
     "output_type": "display_data"
    }
   ],
   "source": [
    "fp3 = [0.5 - 0.5*norm.cdf(c) for c in x]\n",
    "fn3 = [0.5*norm.cdf(c) for c in x]\n",
    "plt.plot(fp3, fn3)"
   ]
  },
  {
   "cell_type": "code",
   "execution_count": 259,
   "metadata": {},
   "outputs": [
    {
     "data": {
      "text/plain": [
       "[<matplotlib.lines.Line2D at 0x12d7ebcd0>]"
      ]
     },
     "execution_count": 259,
     "metadata": {},
     "output_type": "execute_result"
    },
    {
     "data": {
      "image/png": "[encoded data removed]",
      "text/plain": [
       "<Figure size 432x288 with 1 Axes>"
      ]
     },
     "metadata": {
      "needs_background": "light"
     },
     "output_type": "display_data"
    }
   ],
   "source": [
    "fp4 = [1 -cdf(n3[n3<0], c) for c in x]\n",
    "fn4 = [cdf(n3[n3>0], c) for c in x]\n",
    "plt.plot(fp4, fn4)"
   ]
  },
  {
   "cell_type": "code",
   "execution_count": 260,
   "metadata": {},
   "outputs": [
    {
     "data": {
      "text/plain": [
       "(50064,)"
      ]
     },
     "execution_count": 260,
     "metadata": {},
     "output_type": "execute_result"
    }
   ],
   "source": [
    "n3[n3>0].shape"
   ]
  },
  {
   "cell_type": "code",
   "execution_count": null,
   "metadata": {},
   "outputs": [],
   "source": []
  }
 ],
 "metadata": {
  "kernelspec": {
   "display_name": "Python 3",
   "language": "python",
   "name": "python3"
  },
  "language_info": {
   "codemirror_mode": {
    "name": "ipython",
    "version": 3
   },
   "file_extension": ".py",
   "mimetype": "text/x-python",
   "name": "python",
   "nbconvert_exporter": "python",
   "pygments_lexer": "ipython3",
   "version": "3.10.5"
  }
 },
 "nbformat": 4,
 "nbformat_minor": 2
}
