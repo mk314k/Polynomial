{
 "cells": [
  {
   "cell_type": "code",
   "execution_count": 6,
   "metadata": {},
   "outputs": [],
   "source": [
    "import numpy as np \n",
    "import matplotlib.pyplot as plt "
   ]
  },
  {
   "cell_type": "code",
   "execution_count": 1,
   "metadata": {},
   "outputs": [],
   "source": [
    "def lderivative(f, x, eps=1e-6):\n",
    "    return (f(x)-f(x-eps))/eps\n",
    "def rderivative(f, x, eps=1e-6):\n",
    "    return (f(x+eps)-f(x))/eps\n",
    "def derivative(f, x, eps=1e-6):\n",
    "    return 0.5*(f(x+eps)-f(x-eps))/eps"
   ]
  },
  {
   "cell_type": "code",
   "execution_count": 21,
   "metadata": {},
   "outputs": [],
   "source": [
    "x = np.linspace(0,100,10000)"
   ]
  },
  {
   "cell_type": "code",
   "execution_count": 22,
   "metadata": {},
   "outputs": [],
   "source": [
    "f = lambda x: x**2"
   ]
  },
  {
   "cell_type": "code",
   "execution_count": 28,
   "metadata": {},
   "outputs": [
    {
     "data": {
      "image/png": "[encoded data removed]",
      "text/plain": [
       "<Figure size 432x288 with 1 Axes>"
      ]
     },
     "metadata": {
      "needs_background": "light"
     },
     "output_type": "display_data"
    }
   ],
   "source": [
    "plt.plot(x, 2*x - lderivative(f,x), label=\"ldev\")\n",
    "plt.plot(x, -2*x + rderivative(f,x), label=\"rdev\")\n",
    "plt.plot(x, 2*x - derivative(f,x, 1e-6), label=\"dev\")\n",
    "plt.legend()\n",
    "plt.show()"
   ]
  },
  {
   "cell_type": "code",
   "execution_count": 29,
   "metadata": {},
   "outputs": [
    {
     "data": {
      "text/plain": [
       "2.1879380774151962e-07"
      ]
     },
     "execution_count": 29,
     "metadata": {},
     "output_type": "execute_result"
    }
   ],
   "source": [
    "( 2*x - derivative(f,x, 1e-6)).mean()"
   ]
  },
  {
   "cell_type": "code",
   "execution_count": 4,
   "metadata": {},
   "outputs": [
    {
     "data": {
      "text/plain": [
       "(3.999998999582033, 4.0000010006480125, 4.000000000115023)"
      ]
     },
     "execution_count": 4,
     "metadata": {},
     "output_type": "execute_result"
    }
   ],
   "source": [
    "lderivative(f, 2), rderivative(f, 2), derivative(f, 2)"
   ]
  },
  {
   "cell_type": "code",
   "execution_count": 28,
   "metadata": {},
   "outputs": [],
   "source": [
    "class polynomial:\n",
    "    def __init__(self, coeff):\n",
    "        self.coeff = [c for c in coeff]\n",
    "        self.degree = len(coeff) -1\n",
    "    def __call__(self, x):\n",
    "        ans = self.coeff[0]\n",
    "        for c in self.coeff[1:]:\n",
    "            ans = ans*x + c\n",
    "        return ans\n",
    "    def derivative(self):\n",
    "        coeff = [(self.degree - r)*c for r, c in enumerate(self.coeff[:-1])]\n",
    "        return polynomial(coeff)\n",
    "    def __repr__(self):\n",
    "        n = self.degree\n",
    "        return ' + '.join([f'{c}x^{n-r}' for r, c in enumerate(self.coeff) if c!= 0])\n",
    "    def newton(self, x0, iteration=1):\n",
    "        x=[x0]\n",
    "        obj = self.derivative()\n",
    "        for i in range(iteration):\n",
    "            x.append(x[i] - self(x[i])/obj(x[i]))\n",
    "        return x"
   ]
  },
  {
   "cell_type": "code",
   "execution_count": 29,
   "metadata": {},
   "outputs": [],
   "source": [
    "p = polynomial([1,0,0,1,0])"
   ]
  },
  {
   "cell_type": "code",
   "execution_count": 30,
   "metadata": {},
   "outputs": [
    {
     "data": {
      "text/plain": [
       "1x^4 + 1x^1"
      ]
     },
     "execution_count": 30,
     "metadata": {},
     "output_type": "execute_result"
    }
   ],
   "source": [
    "p"
   ]
  },
  {
   "cell_type": "code",
   "execution_count": 32,
   "metadata": {},
   "outputs": [
    {
     "data": {
      "text/plain": [
       "[1,\n",
       " 0.6,\n",
       " 0.20858369098712448,\n",
       " 0.005479707099794534,\n",
       " 2.7048946190516565e-09,\n",
       " 0.0,\n",
       " 0.0,\n",
       " 0.0,\n",
       " 0.0,\n",
       " 0.0]"
      ]
     },
     "execution_count": 32,
     "metadata": {},
     "output_type": "execute_result"
    }
   ],
   "source": [
    "p.newton(1,9)"
   ]
  },
  {
   "cell_type": "code",
   "execution_count": 4,
   "metadata": {},
   "outputs": [
    {
     "data": {
      "text/plain": [
       "25"
      ]
     },
     "execution_count": 4,
     "metadata": {},
     "output_type": "execute_result"
    }
   ],
   "source": [
    "p(5)"
   ]
  },
  {
   "cell_type": "code",
   "execution_count": null,
   "metadata": {},
   "outputs": [],
   "source": []
  }
 ],
 "metadata": {
  "kernelspec": {
   "display_name": "Python 3",
   "language": "python",
   "name": "python3"
  },
  "language_info": {
   "codemirror_mode": {
    "name": "ipython",
    "version": 3
   },
   "file_extension": ".py",
   "mimetype": "text/x-python",
   "name": "python",
   "nbconvert_exporter": "python",
   "pygments_lexer": "ipython3",
   "version": "3.10.5"
  }
 },
 "nbformat": 4,
 "nbformat_minor": 2
}
